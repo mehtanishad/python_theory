{
 "cells": [
  {
   "cell_type": "markdown",
   "id": "1fbe14e9",
   "metadata": {},
   "source": [
    "## What is python? Who developed python?\n",
    "\n",
    "Python is an interpreted, object-oriented, high-level programming language with dynamic semantics developed by Guido van Rossum. It was originally released in 1991."
   ]
  },
  {
   "cell_type": "markdown",
   "id": "f1b6c899",
   "metadata": {},
   "source": [
    "## What are the key features of python?"
   ]
  },
  {
   "cell_type": "markdown",
   "id": "adeb2d75",
   "metadata": {},
   "source": [
    "Value Keywords: True, False, None.\n",
    "Operator Keywords: and, or, not, in, is.\n",
    "Control Flow Keywords: if, elif, else.\n",
    "Iteration Keywords: for, while, break, continue, else.\n",
    "Structure Keywords: def, class, with, as, pass, lambda.\n",
    "Returning Keywords: return, yield.\n",
    "Import Keywords: import, from, as."
   ]
  },
  {
   "cell_type": "markdown",
   "id": "0edd39cf",
   "metadata": {},
   "source": [
    "## What is a collection in python?"
   ]
  },
  {
   "cell_type": "markdown",
   "id": "86e062f6",
   "metadata": {},
   "source": [
    "Collections is a built-in Python module that implements specialized container datatypes providing alternatives to Python's general purpose built-in containers such as dict , list , set , and tuple ."
   ]
  },
  {
   "cell_type": "markdown",
   "id": "200652ce",
   "metadata": {},
   "source": [
    "## Explain difference between list and tuple "
   ]
  },
  {
   "cell_type": "markdown",
   "id": "16fbdf80",
   "metadata": {},
   "source": [
    "# list\n",
    "\n",
    "List is a container to contain different types of objects and is used to iterate objects.\n",
    "\n",
    "Example\n",
    "\n",
    "list = ['a', 'b', 'c', 'd', 'e']\n",
    "\n",
    "## tuple\n",
    "\n",
    "Tuples\n",
    "Tuple is also similar to list but contains immutable objects. Tuple processing is faster than List.\n",
    "\n",
    "Example\n",
    "\n",
    "tuples = ('a', 'b', 'c', 'd', 'e')\n",
    "\n",
    "\n",
    "\n"
   ]
  },
  {
   "cell_type": "markdown",
   "id": "b1dca566",
   "metadata": {},
   "source": [
    "## What is the namespace in python?"
   ]
  },
  {
   "cell_type": "markdown",
   "id": "4dc7e503",
   "metadata": {},
   "source": [
    "Namespaces in Python. A namespace is a collection of currently defined symbolic names along with information about the object that each name references. You can think of a namespace as a dictionary in which the keys are the object names and the values are the objects themselves."
   ]
  },
  {
   "cell_type": "markdown",
   "id": "c78503a4",
   "metadata": {},
   "source": [
    "## What is meaning of mutable and immutable"
   ]
  },
  {
   "cell_type": "markdown",
   "id": "56c5fd09",
   "metadata": {},
   "source": [
    "## Mutable \n",
    "\n",
    "Mutable is when something is changeable or has the ability to change. In Python, ‘mutable’ is the ability of objects to change their values. These are often the objects that store a collection of data.\n",
    "\n",
    "## Immutable \n",
    "\n",
    "Immutable is the when no change is possible over time. In Python, if the value of an object cannot be changed over time, then it is known as immutable. Once created, the value of these objects is permanent."
   ]
  },
  {
   "cell_type": "markdown",
   "id": "a8887747",
   "metadata": {},
   "source": [
    "## What is the lambda function in python?"
   ]
  },
  {
   "cell_type": "markdown",
   "id": "1c1e10ec",
   "metadata": {},
   "source": [
    "A lambda function is a small anonymous function.\n",
    "\n",
    "A lambda function can take any number of arguments, but can only have one expression.\n",
    "\n",
    "## Example:\n",
    "    \n",
    "Add 10 to argument a, and return the result:\n",
    "\n",
    "x = lambda a : a + 10\n",
    "print(x(5))"
   ]
  },
  {
   "cell_type": "markdown",
   "id": "a586f498",
   "metadata": {},
   "source": [
    "## When do we use a pass statement?"
   ]
  },
  {
   "cell_type": "markdown",
   "id": "84d3d625",
   "metadata": {},
   "source": [
    "The pass statement is used as a placeholder for future code.\n",
    "\n",
    "When the pass statement is executed, nothing happens, but you avoid getting an error when empty code is not allowed.\n",
    "\n",
    "Empty code is not allowed in loops, function definitions, class definitions, or in if statements.\n",
    "\n",
    "## Example\n",
    "\n",
    "Using the pass keyword in an if statement:\n",
    "\n",
    "a = 33\n",
    "b = 200\n",
    "\n",
    "if b > a:\n",
    "  pass"
   ]
  },
  {
   "cell_type": "markdown",
   "id": "53e882e1",
   "metadata": {},
   "source": [
    "## What is slicing?\n",
    "\n",
    "Slicing in Python is a powerful feature that allows easy extraction and modification of parts of sequences. For example extraction of sublists from another list or last N characters from a string. Slicing in Python, refers to the process of extracting a specific portion of a sequence, such as: string. list"
   ]
  },
  {
   "cell_type": "markdown",
   "id": "488bfd33",
   "metadata": {},
   "source": [
    "## How to get the last character from string in python?"
   ]
  },
  {
   "cell_type": "markdown",
   "id": "26b117f2",
   "metadata": {},
   "source": [
    "To get the last character of the given string in Python, we can use string indexing using square brackets.\n",
    "\n",
    "Syntax\n",
    "\n",
    "The syntax to get the last character of the string x is\n",
    "\n",
    "x[len(x) - 1]\n",
    "\n",
    "## example:👇"
   ]
  },
  {
   "cell_type": "code",
   "execution_count": 5,
   "id": "7d4c0bdd",
   "metadata": {},
   "outputs": [
    {
     "name": "stdout",
     "output_type": "stream",
     "text": [
      "Last character : e\n"
     ]
    }
   ],
   "source": [
    "\n",
    "name = 'apple'\n",
    "\n",
    "if len(name) > 0:\n",
    "    lastChar = name[len(name) - 1]\n",
    "    print(f'Last character : {lastChar}')\n",
    "else:\n",
    "    print('The string is empty. Please check.')"
   ]
  },
  {
   "cell_type": "markdown",
   "id": "9cb20596",
   "metadata": {},
   "source": [
    "## Explain extend() and append() in python\n",
    "\n",
    "append() adds a single element to the end of the list while . \n",
    "\n",
    "extend() can add multiple individual elements to the end of the list."
   ]
  },
  {
   "cell_type": "markdown",
   "id": "eb03c815",
   "metadata": {},
   "source": [
    "## How to find no. of elements in a list?\n"
   ]
  },
  {
   "cell_type": "markdown",
   "id": "a45c376e",
   "metadata": {},
   "source": [
    "Using Len() function to Get the Number of Elements\n",
    "We can use the len( ) function to return the number of elements present in the list.\n",
    "\n",
    "example: 👇"
   ]
  },
  {
   "cell_type": "code",
   "execution_count": 6,
   "id": "ab18c2d1",
   "metadata": {},
   "outputs": [
    {
     "name": "stdout",
     "output_type": "stream",
     "text": [
      "[1, 2, 3, 4]\n",
      "No of elements in list are: 4\n"
     ]
    }
   ],
   "source": [
    "# declare list of items\n",
    "elem_list = [1, 2, 3, 4]\n",
    " \n",
    "# printing the list\n",
    "print(elem_list)\n",
    " \n",
    "# using the len() which return the number\n",
    "# of elements in the list\n",
    "print(\"No of elements in list are:\", len(elem_list))"
   ]
  },
  {
   "cell_type": "markdown",
   "id": "e35a175e",
   "metadata": {},
   "source": [
    "## What is the meaning of negative index in python?"
   ]
  },
  {
   "cell_type": "markdown",
   "id": "6d3d255c",
   "metadata": {},
   "source": [
    "Negative Indexing\n",
    "\n",
    "Negative indexing means beginning from the end, -1 refers to the last item, -2 refers to the second last item etc.\n"
   ]
  },
  {
   "cell_type": "code",
   "execution_count": 7,
   "id": "5751f516",
   "metadata": {},
   "outputs": [
    {
     "name": "stdout",
     "output_type": "stream",
     "text": [
      "cherry\n"
     ]
    }
   ],
   "source": [
    "thislist = [\"apple\", \"banana\", \"cherry\"]\n",
    "print(thislist[-1])"
   ]
  },
  {
   "cell_type": "markdown",
   "id": "f4e85df2",
   "metadata": {},
   "source": [
    "## Explain range() function in python ?"
   ]
  },
  {
   "cell_type": "markdown",
   "id": "ee4350d3",
   "metadata": {},
   "source": [
    "The range() function returns a sequence of numbers, starting from 0 by default, and increments by 1 (by default), and stops before a specified number.\n",
    "\n",
    "example: 👇"
   ]
  },
  {
   "cell_type": "code",
   "execution_count": 8,
   "id": "244554dc",
   "metadata": {},
   "outputs": [
    {
     "name": "stdout",
     "output_type": "stream",
     "text": [
      "3\n",
      "4\n",
      "5\n"
     ]
    }
   ],
   "source": [
    "x = range(3, 6)\n",
    "for n in x:\n",
    "  print(n)"
   ]
  },
  {
   "cell_type": "markdown",
   "id": "f6068cda",
   "metadata": {},
   "source": [
    "## What are the rules for local and global variables in python?"
   ]
  },
  {
   "cell_type": "markdown",
   "id": "eaa08a6d",
   "metadata": {},
   "source": [
    "If you create a variable with the same name inside a function, this variable will be local, and can only be used inside the function. The global variable with the same name will remain as it was, global and with the original value."
   ]
  },
  {
   "cell_type": "markdown",
   "id": "a413e7d7",
   "metadata": {},
   "source": []
  },
  {
   "cell_type": "code",
   "execution_count": null,
   "id": "bb0c2c7c",
   "metadata": {},
   "outputs": [],
   "source": []
  }
 ],
 "metadata": {
  "kernelspec": {
   "display_name": "Python 3 (ipykernel)",
   "language": "python",
   "name": "python3"
  },
  "language_info": {
   "codemirror_mode": {
    "name": "ipython",
    "version": 3
   },
   "file_extension": ".py",
   "mimetype": "text/x-python",
   "name": "python",
   "nbconvert_exporter": "python",
   "pygments_lexer": "ipython3",
   "version": "3.9.12"
  }
 },
 "nbformat": 4,
 "nbformat_minor": 5
}
