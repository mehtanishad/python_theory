{
 "cells": [
  {
   "cell_type": "markdown",
   "id": "1fbe14e9",
   "metadata": {},
   "source": [
    "## What is python? Who developed python?\n",
    "\n",
    "Python is an interpreted, object-oriented, high-level programming language with dynamic semantics developed by Guido van Rossum. It was originally released in 1991."
   ]
  },
  {
   "cell_type": "markdown",
   "id": "f1b6c899",
   "metadata": {},
   "source": [
    "## What are the key features of python?"
   ]
  },
  {
   "cell_type": "markdown",
   "id": "adeb2d75",
   "metadata": {},
   "source": [
    "Value Keywords: True, False, None.\n",
    "Operator Keywords: and, or, not, in, is.\n",
    "Control Flow Keywords: if, elif, else.\n",
    "Iteration Keywords: for, while, break, continue, else.\n",
    "Structure Keywords: def, class, with, as, pass, lambda.\n",
    "Returning Keywords: return, yield.\n",
    "Import Keywords: import, from, as."
   ]
  },
  {
   "cell_type": "markdown",
   "id": "0edd39cf",
   "metadata": {},
   "source": [
    "## What is a collection in python?"
   ]
  },
  {
   "cell_type": "markdown",
   "id": "86e062f6",
   "metadata": {},
   "source": [
    "Collections is a built-in Python module that implements specialized container datatypes providing alternatives to Python's general purpose built-in containers such as dict , list , set , and tuple ."
   ]
  },
  {
   "cell_type": "markdown",
   "id": "200652ce",
   "metadata": {},
   "source": [
    "## Explain difference between list and tuple "
   ]
  },
  {
   "cell_type": "markdown",
   "id": "16fbdf80",
   "metadata": {},
   "source": [
    "# list\n",
    "\n",
    "List is a container to contain different types of objects and is used to iterate objects.\n",
    "\n",
    "Example\n",
    "\n",
    "list = ['a', 'b', 'c', 'd', 'e']\n",
    "\n",
    "## tuple\n",
    "\n",
    "Tuples\n",
    "Tuple is also similar to list but contains immutable objects. Tuple processing is faster than List.\n",
    "\n",
    "Example\n",
    "\n",
    "tuples = ('a', 'b', 'c', 'd', 'e')\n",
    "\n",
    "\n",
    "\n"
   ]
  },
  {
   "cell_type": "markdown",
   "id": "b1dca566",
   "metadata": {},
   "source": [
    "## What is the namespace in python?"
   ]
  },
  {
   "cell_type": "markdown",
   "id": "4dc7e503",
   "metadata": {},
   "source": [
    "Namespaces in Python. A namespace is a collection of currently defined symbolic names along with information about the object that each name references. You can think of a namespace as a dictionary in which the keys are the object names and the values are the objects themselves."
   ]
  },
  {
   "cell_type": "markdown",
   "id": "c78503a4",
   "metadata": {},
   "source": [
    "## What is meaning of mutable and immutable"
   ]
  },
  {
   "cell_type": "markdown",
   "id": "56c5fd09",
   "metadata": {},
   "source": [
    "## Mutable \n",
    "\n",
    "Mutable is when something is changeable or has the ability to change. In Python, ‘mutable’ is the ability of objects to change their values. These are often the objects that store a collection of data.\n",
    "\n",
    "## Immutable \n",
    "\n",
    "Immutable is the when no change is possible over time. In Python, if the value of an object cannot be changed over time, then it is known as immutable. Once created, the value of these objects is permanent."
   ]
  },
  {
   "cell_type": "markdown",
   "id": "a8887747",
   "metadata": {},
   "source": [
    "## What is the lambda function in python?"
   ]
  },
  {
   "cell_type": "markdown",
   "id": "1c1e10ec",
   "metadata": {},
   "source": [
    "A lambda function is a small anonymous function.\n",
    "\n",
    "A lambda function can take any number of arguments, but can only have one expression.\n",
    "\n",
    "## Example:\n",
    "    \n",
    "Add 10 to argument a, and return the result:\n",
    "\n",
    "x = lambda a : a + 10\n",
    "print(x(5))"
   ]
  },
  {
   "cell_type": "markdown",
   "id": "a586f498",
   "metadata": {},
   "source": [
    "## When do we use a pass statement?"
   ]
  },
  {
   "cell_type": "markdown",
   "id": "84d3d625",
   "metadata": {},
   "source": [
    "The pass statement is used as a placeholder for future code.\n",
    "\n",
    "When the pass statement is executed, nothing happens, but you avoid getting an error when empty code is not allowed.\n",
    "\n",
    "Empty code is not allowed in loops, function definitions, class definitions, or in if statements.\n",
    "\n",
    "## Example\n",
    "\n",
    "Using the pass keyword in an if statement:\n",
    "\n",
    "a = 33\n",
    "b = 200\n",
    "\n",
    "if b > a:\n",
    "  pass"
   ]
  },
  {
   "cell_type": "markdown",
   "id": "53e882e1",
   "metadata": {},
   "source": [
    "## What is slicing?\n",
    "\n",
    "Slicing in Python is a powerful feature that allows easy extraction and modification of parts of sequences. For example extraction of sublists from another list or last N characters from a string. Slicing in Python, refers to the process of extracting a specific portion of a sequence, such as: string. list"
   ]
  },
  {
   "cell_type": "markdown",
   "id": "488bfd33",
   "metadata": {},
   "source": [
    "## How to get the last character from string in python?"
   ]
  },
  {
   "cell_type": "markdown",
   "id": "26b117f2",
   "metadata": {},
   "source": [
    "To get the last character of the given string in Python, we can use string indexing using square brackets.\n",
    "\n",
    "Syntax\n",
    "\n",
    "The syntax to get the last character of the string x is\n",
    "\n",
    "x[len(x) - 1]\n",
    "\n",
    "## example:👇"
   ]
  },
  {
   "cell_type": "code",
   "execution_count": 5,
   "id": "7d4c0bdd",
   "metadata": {},
   "outputs": [
    {
     "name": "stdout",
     "output_type": "stream",
     "text": [
      "Last character : e\n"
     ]
    }
   ],
   "source": [
    "\n",
    "name = 'apple'\n",
    "\n",
    "if len(name) > 0:\n",
    "    lastChar = name[len(name) - 1]\n",
    "    print(f'Last character : {lastChar}')\n",
    "else:\n",
    "    print('The string is empty. Please check.')"
   ]
  },
  {
   "cell_type": "markdown",
   "id": "9cb20596",
   "metadata": {},
   "source": [
    "## Explain extend() and append() in python\n",
    "\n",
    "append() adds a single element to the end of the list while . \n",
    "\n",
    "extend() can add multiple individual elements to the end of the list."
   ]
  },
  {
   "cell_type": "markdown",
   "id": "eb03c815",
   "metadata": {},
   "source": [
    "## How to find no. of elements in a list?\n"
   ]
  },
  {
   "cell_type": "markdown",
   "id": "a45c376e",
   "metadata": {},
   "source": [
    "Using Len() function to Get the Number of Elements\n",
    "We can use the len( ) function to return the number of elements present in the list.\n",
    "\n",
    "example: 👇"
   ]
  },
  {
   "cell_type": "code",
   "execution_count": 6,
   "id": "ab18c2d1",
   "metadata": {},
   "outputs": [
    {
     "name": "stdout",
     "output_type": "stream",
     "text": [
      "[1, 2, 3, 4]\n",
      "No of elements in list are: 4\n"
     ]
    }
   ],
   "source": [
    "# declare list of items\n",
    "elem_list = [1, 2, 3, 4]\n",
    " \n",
    "# printing the list\n",
    "print(elem_list)\n",
    " \n",
    "# using the len() which return the number\n",
    "# of elements in the list\n",
    "print(\"No of elements in list are:\", len(elem_list))"
   ]
  },
  {
   "cell_type": "markdown",
   "id": "e35a175e",
   "metadata": {},
   "source": [
    "## What is the meaning of negative index in python?"
   ]
  },
  {
   "cell_type": "markdown",
   "id": "6d3d255c",
   "metadata": {},
   "source": [
    "Negative Indexing\n",
    "\n",
    "Negative indexing means beginning from the end, -1 refers to the last item, -2 refers to the second last item etc.\n"
   ]
  },
  {
   "cell_type": "code",
   "execution_count": 7,
   "id": "5751f516",
   "metadata": {},
   "outputs": [
    {
     "name": "stdout",
     "output_type": "stream",
     "text": [
      "cherry\n"
     ]
    }
   ],
   "source": [
    "thislist = [\"apple\", \"banana\", \"cherry\"]\n",
    "print(thislist[-1])"
   ]
  },
  {
   "cell_type": "markdown",
   "id": "f4e85df2",
   "metadata": {},
   "source": [
    "## Explain range() function in python ?"
   ]
  },
  {
   "cell_type": "markdown",
   "id": "ee4350d3",
   "metadata": {},
   "source": [
    "The range() function returns a sequence of numbers, starting from 0 by default, and increments by 1 (by default), and stops before a specified number.\n",
    "\n",
    "example: 👇"
   ]
  },
  {
   "cell_type": "code",
   "execution_count": 8,
   "id": "244554dc",
   "metadata": {},
   "outputs": [
    {
     "name": "stdout",
     "output_type": "stream",
     "text": [
      "3\n",
      "4\n",
      "5\n"
     ]
    }
   ],
   "source": [
    "x = range(3, 6)\n",
    "for n in x:\n",
    "  print(n)"
   ]
  },
  {
   "cell_type": "markdown",
   "id": "f6068cda",
   "metadata": {},
   "source": [
    "## What are the rules for local and global variables in python?"
   ]
  },
  {
   "cell_type": "markdown",
   "id": "eaa08a6d",
   "metadata": {},
   "source": [
    "If you create a variable with the same name inside a function, this variable will be local, and can only be used inside the function. The global variable with the same name will remain as it was, global and with the original value."
   ]
  },
  {
   "cell_type": "markdown",
   "id": "a413e7d7",
   "metadata": {},
   "source": [
    "If you create a variable with the same name inside a function, this variable will be local, and can only be used inside the function. The global variable with the same name will remain as it was, global and with the original value."
   ]
  },
  {
   "cell_type": "markdown",
   "id": "f3b0baac",
   "metadata": {},
   "source": [
    "## Explain categories of functions in python"
   ]
  },
  {
   "cell_type": "markdown",
   "id": "66198265",
   "metadata": {},
   "source": [
    "There are two types of functions in python:\n",
    "\n",
    "User-Defined Functions - these types of functions are defined by the user to perform any specific task.\n",
    "\n",
    "Built-in Functions - these types of functions are pre-defined in python."
   ]
  },
  {
   "cell_type": "markdown",
   "id": "241a79ef",
   "metadata": {},
   "source": [
    "## What is the use of format function in python"
   ]
  },
  {
   "cell_type": "code",
   "execution_count": 3,
   "id": "c9d4ab48",
   "metadata": {},
   "outputs": [
    {
     "name": "stdout",
     "output_type": "stream",
     "text": [
      "For only 49.00 dollars!\n"
     ]
    }
   ],
   "source": [
    "# The format() method formats the specified value(s) and insert them inside the string's placeholder.\n",
    "txt = \"For only {price:.2f} dollars!\"\n",
    "print(txt.format(price = 49))"
   ]
  },
  {
   "cell_type": "markdown",
   "id": "f6475801",
   "metadata": {},
   "source": [
    "## Explain how you can access a module in Python"
   ]
  },
  {
   "cell_type": "markdown",
   "id": "fa003c6b",
   "metadata": {},
   "source": [
    "In Python, modules are accessed by using the import statement. When you do this, you execute the code of the module, keeping the scopes of the definitions so that your current file(s) can make use of these.\n",
    "\n",
    "import "
   ]
  },
  {
   "cell_type": "markdown",
   "id": "ed4d5651",
   "metadata": {},
   "source": [
    "## Explain the use of // operator in python\n"
   ]
  },
  {
   "cell_type": "markdown",
   "id": "2facb7cc",
   "metadata": {},
   "source": [
    "flor division "
   ]
  },
  {
   "cell_type": "markdown",
   "id": "8b477409",
   "metadata": {},
   "source": [
    "# What is the use of split function in python"
   ]
  },
  {
   "cell_type": "markdown",
   "id": "ffc3d616",
   "metadata": {},
   "source": [
    "The split() method splits a string into a list.\n",
    "\n",
    "You can specify the separator, default separator is any whitespace.\n",
    "\n",
    "# Syntax:-\n",
    "string.split(separator, maxsplit)\n",
    "\n"
   ]
  },
  {
   "cell_type": "code",
   "execution_count": 5,
   "id": "98a93eb9",
   "metadata": {},
   "outputs": [
    {
     "name": "stdout",
     "output_type": "stream",
     "text": [
      "['hello', 'my name is Peter', 'I am 26 years old']\n"
     ]
    }
   ],
   "source": [
    "txt = \"hello, my name is Peter, I am 26 years old\"\n",
    "\n",
    "x = txt.split(\", \")\n",
    "\n",
    "print(x)"
   ]
  },
  {
   "cell_type": "markdown",
   "id": "692f989d",
   "metadata": {},
   "source": [
    "## What is a keyword and how many keywords are available in python \n",
    " "
   ]
  },
  {
   "cell_type": "markdown",
   "id": "2df0cdff",
   "metadata": {},
   "source": [
    "There are 33 keywords in Python 3.7 let's go through all of them one by one\n"
   ]
  },
  {
   "cell_type": "markdown",
   "id": "689c8312",
   "metadata": {},
   "source": [
    "## What is PEP 8 "
   ]
  },
  {
   "cell_type": "markdown",
   "id": "38ec2942",
   "metadata": {},
   "source": [
    "PEP 8 covers various aspects of code style, such as the use of indentation, line lengths, naming conventions, and comments. The goal of PEP 8 is to improve the readability of code and make it easier for others to understand and maintain. Adhering to PEP 8 is considered a best practice for Python programming, and many open-source Python projects follow it."
   ]
  },
  {
   "cell_type": "markdown",
   "id": "0235119f",
   "metadata": {},
   "source": [
    "## How to check which version of python is installed in the system"
   ]
  },
  {
   "cell_type": "markdown",
   "id": "b1e42acb",
   "metadata": {},
   "source": [
    "Open the Command Prompt or Terminal on your computer.\n",
    "\n",
    "Type the following command and press Enter:\n",
    "\n",
    "python --version"
   ]
  },
  {
   "cell_type": "markdown",
   "id": "948b2822",
   "metadata": {},
   "source": [
    "## What is a list constructor"
   ]
  },
  {
   "cell_type": "markdown",
   "id": "dd53d81e",
   "metadata": {},
   "source": [
    "A list constructor is a way to create a new list in Python. There are several ways to create a list, but the most common way is to use square brackets []:"
   ]
  },
  {
   "cell_type": "code",
   "execution_count": 8,
   "id": "965bf6f2",
   "metadata": {},
   "outputs": [
    {
     "name": "stdout",
     "output_type": "stream",
     "text": [
      "[1, 2, 3, 4, 5]\n"
     ]
    }
   ],
   "source": [
    ">>> numbers = [1, 2, 3, 4, 5]\n",
    ">>> print(numbers)\n"
   ]
  },
  {
   "cell_type": "code",
   "execution_count": null,
   "id": "635b06d3",
   "metadata": {},
   "outputs": [],
   "source": []
  }
 ],
 "metadata": {
  "kernelspec": {
   "display_name": "Python 3 (ipykernel)",
   "language": "python",
   "name": "python3"
  },
  "language_info": {
   "codemirror_mode": {
    "name": "ipython",
    "version": 3
   },
   "file_extension": ".py",
   "mimetype": "text/x-python",
   "name": "python",
   "nbconvert_exporter": "python",
   "pygments_lexer": "ipython3",
   "version": "3.9.12"
  }
 },
 "nbformat": 4,
 "nbformat_minor": 5
}
